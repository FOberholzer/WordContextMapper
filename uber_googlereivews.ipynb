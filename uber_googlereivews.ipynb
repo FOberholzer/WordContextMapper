{
 "cells": [
  {
   "cell_type": "code",
   "execution_count": 87,
   "id": "463b2064",
   "metadata": {},
   "outputs": [],
   "source": [
    "import pandas as pd\n",
    "from nltk.tokenize import word_tokenize\n",
    "import nltk \n",
    "import re\n",
    "from gensim.models import Word2Vec\n",
    "from sklearn.decomposition import PCA\n",
    "import matplotlib.pyplot as plt\n",
    "import seaborn as sns"
   ]
  },
  {
   "cell_type": "code",
   "execution_count": 28,
   "id": "9b28db99",
   "metadata": {},
   "outputs": [
    {
     "name": "stdout",
     "output_type": "stream",
     "text": [
      "<class 'pandas.core.frame.DataFrame'>\n",
      "RangeIndex: 1455477 entries, 0 to 1455476\n",
      "Data columns (total 9 columns):\n",
      " #   Column              Non-Null Count    Dtype \n",
      "---  ------              --------------    ----- \n",
      " 0   Unnamed: 0          1455477 non-null  int64 \n",
      " 1   review_id           1455477 non-null  object\n",
      " 2   pseudo_author_id    1455477 non-null  object\n",
      " 3   author_name         1455477 non-null  object\n",
      " 4   review_text         1454882 non-null  object\n",
      " 5   review_rating       1455477 non-null  int64 \n",
      " 6   review_likes        1455477 non-null  int64 \n",
      " 7   author_app_version  1084177 non-null  object\n",
      " 8   review_timestamp    1455477 non-null  object\n",
      "dtypes: int64(3), object(6)\n",
      "memory usage: 99.9+ MB\n",
      "None\n"
     ]
    }
   ],
   "source": [
    "# data can be found at https://www.kaggle.com/datasets/bwandowando/1-5-million-uber-app-google-store-reviews\n",
    "uber_reviews = pd.read_csv('UBER_REVIEWS.csv')\n",
    "print(uber_reviews.info())"
   ]
  },
  {
   "cell_type": "code",
   "execution_count": 44,
   "id": "3b608f4a",
   "metadata": {},
   "outputs": [
    {
     "name": "stdout",
     "output_type": "stream",
     "text": [
      "0    Better late than never. Welcome! Sign up was a...\n",
      "1    Keeps telling me that my email and password is...\n",
      "2    There's not a chance in h*ll I'd put my cc inf...\n",
      "3    Sign up process is glitchy. Shoots you to the ...\n",
      "4    Great service! Timely and comfortable rides. T...\n",
      "Name: review_text, dtype: object\n"
     ]
    }
   ],
   "source": [
    "# for sentiment analysis we will only be looking at review_text\n",
    "df = uber_reviews['review_text']\n",
    "print(df.head())"
   ]
  },
  {
   "cell_type": "markdown",
   "id": "f398ff80",
   "metadata": {},
   "source": [
    "We can see there is some punctuation, capital letters, special cahracters which needs to be removed"
   ]
  },
  {
   "cell_type": "code",
   "execution_count": 49,
   "id": "55ebc309",
   "metadata": {},
   "outputs": [
    {
     "name": "stdout",
     "output_type": "stream",
     "text": [
      "0          better late than never welcome sign up was a l...\n",
      "1          keeps telling me that my email and password is...\n",
      "2          theres not a chance in hll id put my cc info i...\n",
      "3          sign up process is glitchy shoots you to the b...\n",
      "4          great service timely and comfortable rides the...\n",
      "                                 ...                        \n",
      "1455472                                                 good\n",
      "1455473      one time price low next time to book high price\n",
      "1455474                         need more respectful service\n",
      "1455475                                                great\n",
      "1455476                                             pleasant\n",
      "Name: review_text, Length: 1455477, dtype: object\n"
     ]
    }
   ],
   "source": [
    "def clean_text(text):\n",
    "    \"\"\"\n",
    "    A function that will \n",
    "     - remove any NaN values\n",
    "     - convert any float to string\n",
    "     - replace all uppercase letters with lower case\n",
    "     - remove any special characters and numbers\n",
    "     - remove extra spaces\n",
    "    \"\"\"\n",
    "    if pd.isna(text):\n",
    "        return ''\n",
    "    if not isinstance(text, str):\n",
    "        text = str(text)\n",
    "    text = text.lower()\n",
    "    text = re.sub(r'[^a-z\\s]', '', text)\n",
    "    text = re.sub(r'\\s+', ' ', text).strip()\n",
    "    return text\n",
    "df_clean = df.apply(clean_text)\n",
    "print(df_clean)"
   ]
  },
  {
   "cell_type": "markdown",
   "id": "01c3a8d7",
   "metadata": {},
   "source": [
    "Ok Good! It looks like most of the unwanted text has been removed"
   ]
  },
  {
   "cell_type": "code",
   "execution_count": 50,
   "id": "6265d454",
   "metadata": {},
   "outputs": [
    {
     "name": "stdout",
     "output_type": "stream",
     "text": [
      "0\n"
     ]
    }
   ],
   "source": [
    "# check if any NaN values left\n",
    "print(df_clean.isna().sum())"
   ]
  },
  {
   "cell_type": "code",
   "execution_count": 51,
   "id": "f95d0bcd",
   "metadata": {},
   "outputs": [
    {
     "name": "stdout",
     "output_type": "stream",
     "text": [
      "21337\n"
     ]
    }
   ],
   "source": [
    "# check for empty rows\n",
    "print((df_clean == '').sum())"
   ]
  },
  {
   "cell_type": "code",
   "execution_count": 53,
   "id": "2e265c4d",
   "metadata": {},
   "outputs": [
    {
     "name": "stdout",
     "output_type": "stream",
     "text": [
      "0\n"
     ]
    }
   ],
   "source": [
    "# lets drop all empty rows\n",
    "df_clean = df_clean[df_clean != '']\n",
    "print((df_clean == '').sum())"
   ]
  },
  {
   "cell_type": "code",
   "execution_count": 55,
   "id": "7d3029b2",
   "metadata": {},
   "outputs": [
    {
     "name": "stdout",
     "output_type": "stream",
     "text": [
      "0          better late than never welcome sign up was a l...\n",
      "1          keeps telling me that my email and password is...\n",
      "2          theres not a chance in hll id put my cc info i...\n",
      "3          sign up process is glitchy shoots you to the b...\n",
      "4          great service timely and comfortable rides the...\n",
      "                                 ...                        \n",
      "1455473      one time price low next time to book high price\n",
      "1455474                         need more respectful service\n",
      "1455475                                                great\n",
      "1455476                                             pleasant\n",
      "token      0          [better, late, than, never, welcome...\n",
      "Name: review_text, Length: 1434141, dtype: object\n"
     ]
    }
   ],
   "source": [
    "# lets Tokenize the text\n",
    "def tokenize(text):\n",
    "    return word_tokenize(text)\n",
    "df_clean['token'] = df_clean.apply(word_tokenize)\n",
    "print(df_clean)"
   ]
  },
  {
   "cell_type": "code",
   "execution_count": 59,
   "id": "e1557137",
   "metadata": {},
   "outputs": [
    {
     "name": "stdout",
     "output_type": "stream",
     "text": [
      "Word2Vec<vocab=212619, vector_size=100, alpha=0.025>\n"
     ]
    }
   ],
   "source": [
    "# Training a Word2Vec model, to allow us to give values to every word\n",
    "model = Word2Vec(df_clean['token'], vector_size=100, window=5, min_count=1, workers=4)\n",
    "print(model)"
   ]
  },
  {
   "cell_type": "code",
   "execution_count": 98,
   "id": "3ecef883",
   "metadata": {},
   "outputs": [
    {
     "data": {
      "text/plain": [
       "array([ 2.6010656 , -2.068419  , -0.58516383,  1.3066113 , -2.669748  ,\n",
       "        0.10932022,  0.7347345 ,  0.9691234 , -1.6725671 , -1.8801787 ,\n",
       "       -0.79617184,  2.2606432 , -0.80591965,  1.2354449 ,  0.83148444,\n",
       "        2.6651785 ,  0.3100164 ,  4.687043  ,  0.8328555 ,  0.9663829 ,\n",
       "       -1.6272423 ,  1.0229689 , -0.2149253 , -0.44339028, -1.2152054 ,\n",
       "       -1.5025743 , -0.885672  , -0.72246873, -1.3044882 ,  0.757452  ,\n",
       "       -0.99323046,  1.716307  ,  0.69634354, -1.845314  , -1.2550144 ,\n",
       "       -0.10257609, -0.8271214 , -0.2905124 , -0.08000589, -1.5471436 ,\n",
       "        0.16075885,  0.89274067, -0.17293285,  0.5102536 ,  1.8317282 ,\n",
       "        0.34417844,  0.41629788,  1.7446914 ,  0.44043595, -0.01377637,\n",
       "        0.7395744 ,  1.0828521 ,  0.2848332 , -4.776335  ,  4.363623  ,\n",
       "        0.272614  ,  0.8716378 ,  2.1739628 ,  1.9164524 ,  1.125212  ,\n",
       "        0.16174668, -0.7377266 ,  4.275166  , -1.5882204 , -1.6809187 ,\n",
       "        3.6289196 , -0.44930956,  0.83946407, -0.40227076, -1.3086191 ,\n",
       "        1.5985867 , -2.8767416 , -0.78550714,  0.7959153 , -2.3072858 ,\n",
       "       -0.45952788,  1.904432  , -1.8887733 , -1.859434  , -0.20857742,\n",
       "        2.0212667 , -2.4176853 ,  1.6090435 ,  0.7202791 , -1.1882087 ,\n",
       "       -0.43281245,  0.37341797, -0.76660997,  1.6572566 , -0.98067874,\n",
       "        0.95775586, -0.8934834 ,  2.8407362 , -1.7090242 ,  1.1391152 ,\n",
       "       -0.511468  , -1.2972771 , -0.8903293 ,  0.1891641 , -1.7057081 ],\n",
       "      dtype=float32)"
      ]
     },
     "execution_count": 98,
     "metadata": {},
     "output_type": "execute_result"
    }
   ],
   "source": [
    "# test it to see what a single word represents in the matrx\n",
    "vector = model.wv['great']\n",
    "vector"
   ]
  },
  {
   "cell_type": "code",
   "execution_count": 69,
   "id": "46a06fd7",
   "metadata": {},
   "outputs": [
    {
     "name": "stdout",
     "output_type": "stream",
     "text": [
      "[('arrogant', 0.8751748204231262), ('unprofessional', 0.8456382751464844), ('impolite', 0.8126387000083923), ('disrespectful', 0.8022738099098206), ('aggressive', 0.7671120166778564), ('misbehaving', 0.7664089798927307), ('harsh', 0.7625654339790344), ('careless', 0.7605326175689697), ('irresponsible', 0.7376469969749451), ('mannerless', 0.7011056542396545)]\n"
     ]
    }
   ],
   "source": [
    "# lets see what words it finds similar to rude, showing the top 10\n",
    "similar_words = model.wv.most_similar('rude', topn=10)\n",
    "print(similar_words)"
   ]
  },
  {
   "cell_type": "code",
   "execution_count": 73,
   "id": "50551f2b",
   "metadata": {},
   "outputs": [
    {
     "name": "stdout",
     "output_type": "stream",
     "text": [
      "[('awesome', 0.7290855050086975)]\n"
     ]
    }
   ],
   "source": [
    "# lets lookf for some analogies, close to nice and fast, far away from slow\n",
    "analogy_result = model.wv.most_similar(positive=['nice', 'fast'], negative=['slow'], topn=1)\n",
    "print(analogy_result)"
   ]
  },
  {
   "cell_type": "code",
   "execution_count": 96,
   "id": "e31698d8",
   "metadata": {},
   "outputs": [],
   "source": [
    "# lets visualise some of the words, starting with selecting some random words\n",
    "words = ['uber', 'fast', 'slow', 'man', 'woman', 'city', 'expensive', 'trip', 'cheap', \n",
    "         'nice', 'taxi', 'drink', 'rude', 'chat', 'smile', 'warm', 'drunk', 'food',\n",
    "         'scary', 'seat', 'door', 'floor', 'handle', 'window', 'cold', 'hair', 'red',\n",
    "         'smell', 'light', 'dark', 'relax', 'angry', 'rain', 'stain', 'work', 'late', 'early'] \n",
    "word_vectors = [model.wv[word] for word in words if word in model.wv]"
   ]
  },
  {
   "cell_type": "code",
   "execution_count": 103,
   "id": "a30adf35",
   "metadata": {},
   "outputs": [
    {
     "data": {
      "image/png": "[encoded data removed]",
      "text/plain": [
       "<Figure size 1000x1000 with 1 Axes>"
      ]
     },
     "metadata": {},
     "output_type": "display_data"
    }
   ],
   "source": [
    "# using PCA to reduce dimensions to allow us to plot the words\n",
    "pca = PCA(n_components=2)\n",
    "word_vecs_2d = pca.fit_transform(word_vectors)\n",
    "# using seaborn to plot the data with our selected words\n",
    "plt.figure(figsize=(10, 10))\n",
    "plot_data = pd.DataFrame(word_vecs_2d, columns=['PCA1', 'PCA2'])\n",
    "plot_data['word'] = words\n",
    "sns.scatterplot(data=plot_data, x='PCA1', y='PCA2')\n",
    "word_vecs_pca = pca.fit_transform(word_vectors)\n",
    "for i in range(plot_data.shape[0]):\n",
    "    plt.text(x=plot_data.PCA1[i]+0.03, y=plot_data.PCA2[i]+0.03, s=plot_data.word[i], \n",
    "             fontdict=dict(color='black', size=7),\n",
    "             bbox=dict(facecolor='red', alpha=0.2))\n",
    "\n",
    "plt.title('2D Visualization of Word Vectors')\n",
    "plt.xlabel('PCA Component 1')\n",
    "plt.ylabel('PCA Component 2')\n",
    "plt.show()"
   ]
  },
  {
   "cell_type": "code",
   "execution_count": null,
   "id": "2271e50c",
   "metadata": {},
   "outputs": [],
   "source": []
  }
 ],
 "metadata": {
  "kernelspec": {
   "display_name": "Python 3 (ipykernel)",
   "language": "python",
   "name": "python3"
  },
  "language_info": {
   "codemirror_mode": {
    "name": "ipython",
    "version": 3
   },
   "file_extension": ".py",
   "mimetype": "text/x-python",
   "name": "python",
   "nbconvert_exporter": "python",
   "pygments_lexer": "ipython3",
   "version": "3.11.5"
  }
 },
 "nbformat": 4,
 "nbformat_minor": 5
}
